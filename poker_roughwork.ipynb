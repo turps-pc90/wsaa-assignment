{
 "cells": [
  {
   "cell_type": "markdown",
   "metadata": {},
   "source": [
    "### LIbrary Imports"
   ]
  },
  {
   "cell_type": "code",
   "execution_count": 2,
   "metadata": {},
   "outputs": [],
   "source": [
    "import requests"
   ]
  },
  {
   "cell_type": "markdown",
   "metadata": {},
   "source": [
    "### API Call"
   ]
  },
  {
   "cell_type": "code",
   "execution_count": 9,
   "metadata": {},
   "outputs": [],
   "source": [
    "def poker_request():\n",
    "    deck_id = \"new\"\n",
    "    url = f\"https://deckofcardsapi.com/api/deck/{deck_id}/draw/?count=5\"\n",
    "    response = requests.get(url)\n",
    "    if response.status_code == 200:\n",
    "        cards = response.json()\n",
    "        print(cards)"
   ]
  },
  {
   "cell_type": "markdown",
   "metadata": {},
   "source": [
    "### Calling the poker_request() function to assess output"
   ]
  },
  {
   "cell_type": "code",
   "execution_count": 11,
   "metadata": {},
   "outputs": [
    {
     "name": "stdout",
     "output_type": "stream",
     "text": [
      "{'success': True, 'deck_id': '90jyb6kmp8lc', 'cards': [{'code': '9H', 'image': 'https://deckofcardsapi.com/static/img/9H.png', 'images': {'svg': 'https://deckofcardsapi.com/static/img/9H.svg', 'png': 'https://deckofcardsapi.com/static/img/9H.png'}, 'value': '9', 'suit': 'HEARTS'}, {'code': 'AH', 'image': 'https://deckofcardsapi.com/static/img/AH.png', 'images': {'svg': 'https://deckofcardsapi.com/static/img/AH.svg', 'png': 'https://deckofcardsapi.com/static/img/AH.png'}, 'value': 'ACE', 'suit': 'HEARTS'}, {'code': 'JS', 'image': 'https://deckofcardsapi.com/static/img/JS.png', 'images': {'svg': 'https://deckofcardsapi.com/static/img/JS.svg', 'png': 'https://deckofcardsapi.com/static/img/JS.png'}, 'value': 'JACK', 'suit': 'SPADES'}, {'code': '3C', 'image': 'https://deckofcardsapi.com/static/img/3C.png', 'images': {'svg': 'https://deckofcardsapi.com/static/img/3C.svg', 'png': 'https://deckofcardsapi.com/static/img/3C.png'}, 'value': '3', 'suit': 'CLUBS'}, {'code': 'AC', 'image': 'https://deckofcardsapi.com/static/img/AC.png', 'images': {'svg': 'https://deckofcardsapi.com/static/img/AC.svg', 'png': 'https://deckofcardsapi.com/static/img/AC.png'}, 'value': 'ACE', 'suit': 'CLUBS'}], 'remaining': 47}\n"
     ]
    }
   ],
   "source": [
    "poker_request()"
   ]
  },
  {
   "cell_type": "markdown",
   "metadata": {},
   "source": [
    "Based on the output above and [this Youtube video](https://www.youtube.com/watch?v=PZLCOgubhEE) I found on a similar project, I am going to try to compare hands and call a winner.\n",
    "<br>\n",
    "<br>\n",
    "I will assign a Jack a value of 11, a Queen a value of 12, a King a value of 13 and an Ace a value of 14. Poker is not my strong suit. Pun intended.  "
   ]
  },
  {
   "cell_type": "code",
   "execution_count": 12,
   "metadata": {},
   "outputs": [],
   "source": [
    "# Function to assign card values to numbers\n",
    "def card_rank(value):\n",
    "    if value.isdigit():\n",
    "        return int(value)\n",
    "    return {'ACE': 14, 'JACK': 11, 'QUEEN': 12, 'KING': 13}[value]\n"
   ]
  },
  {
   "cell_type": "markdown",
   "metadata": {},
   "source": [
    "### Poker Hands\n",
    "![Poker Hands](https://encrypted-tbn0.gstatic.com/images?q=tbn:ANd9GcTYG-1Z4fncgQqbL2WskKhBr5fkw69qOnIXww&s)\n"
   ]
  },
  {
   "cell_type": "markdown",
   "metadata": {},
   "source": [
    "### Note\n",
    "\n",
    "I have discovered what I think is a suitable [Github repo](https://github.com/jonathanza/poker_hands) that I can use for the poker hands evaluation which I will test below. "
   ]
  },
  {
   "cell_type": "code",
   "execution_count": 15,
   "metadata": {},
   "outputs": [],
   "source": [
    "from pokerhand import PokerHand"
   ]
  },
  {
   "cell_type": "markdown",
   "metadata": {},
   "source": [
    "I need to make the output fit the structure of the PokerHand application ([as per the README file](https://github.com/jonathanza/poker_hands?tab=readme-ov-file#usage)) so will use the upper() function as the app from Jonathanza uses uppercase letters and I will take the first character as they use first character also. "
   ]
  },
  {
   "cell_type": "code",
   "execution_count": 16,
   "metadata": {},
   "outputs": [],
   "source": [
    "def convert_card(card):\n",
    "    value = card['value']\n",
    "    suit = card['suit'][0].upper()  # Take the first letter of the suit and convert it to uppercase\n",
    "    if value == 'ACE':\n",
    "        value = 'A'\n",
    "    elif value == 'JACK':\n",
    "        value = 'J'\n",
    "    elif value == 'QUEEN':\n",
    "        value = 'Q'\n",
    "    elif value == 'KING':\n",
    "        value = 'K'\n",
    "    elif value == '10':\n",
    "        value = 'T'\n",
    "    return (value, suit)\n"
   ]
  },
  {
   "cell_type": "markdown",
   "metadata": {},
   "source": [
    "### Rewriting API Request\n",
    "#### To include the PokerHand app"
   ]
  },
  {
   "cell_type": "code",
   "execution_count": 23,
   "metadata": {},
   "outputs": [],
   "source": [
    "def poker_request():\n",
    "    deck_id = \"new\"\n",
    "    url = f\"https://deckofcardsapi.com/api/deck/{deck_id}/draw/?count=5\"\n",
    "    response = requests.get(url)\n",
    "    if response.status_code == 200:\n",
    "        cards = response.json()['cards']\n",
    "        converted_cards = [convert_card(card) for card in cards]\n",
    "        hand = PokerHand(converted_cards)\n",
    "        hand_name = hand.classify()\n",
    "        print(hand_name)\n",
    "        print(cards)"
   ]
  },
  {
   "cell_type": "code",
   "execution_count": 24,
   "metadata": {},
   "outputs": [
    {
     "name": "stdout",
     "output_type": "stream",
     "text": [
      "One Pair\n",
      "[{'code': '4D', 'image': 'https://deckofcardsapi.com/static/img/4D.png', 'images': {'svg': 'https://deckofcardsapi.com/static/img/4D.svg', 'png': 'https://deckofcardsapi.com/static/img/4D.png'}, 'value': '4', 'suit': 'DIAMONDS'}, {'code': '4S', 'image': 'https://deckofcardsapi.com/static/img/4S.png', 'images': {'svg': 'https://deckofcardsapi.com/static/img/4S.svg', 'png': 'https://deckofcardsapi.com/static/img/4S.png'}, 'value': '4', 'suit': 'SPADES'}, {'code': '7D', 'image': 'https://deckofcardsapi.com/static/img/7D.png', 'images': {'svg': 'https://deckofcardsapi.com/static/img/7D.svg', 'png': 'https://deckofcardsapi.com/static/img/7D.png'}, 'value': '7', 'suit': 'DIAMONDS'}, {'code': '5S', 'image': 'https://deckofcardsapi.com/static/img/5S.png', 'images': {'svg': 'https://deckofcardsapi.com/static/img/5S.svg', 'png': 'https://deckofcardsapi.com/static/img/5S.png'}, 'value': '5', 'suit': 'SPADES'}, {'code': '8H', 'image': 'https://deckofcardsapi.com/static/img/8H.png', 'images': {'svg': 'https://deckofcardsapi.com/static/img/8H.svg', 'png': 'https://deckofcardsapi.com/static/img/8H.png'}, 'value': '8', 'suit': 'HEARTS'}]\n"
     ]
    }
   ],
   "source": [
    "poker_request()"
   ]
  }
 ],
 "metadata": {
  "kernelspec": {
   "display_name": "base",
   "language": "python",
   "name": "python3"
  },
  "language_info": {
   "codemirror_mode": {
    "name": "ipython",
    "version": 3
   },
   "file_extension": ".py",
   "mimetype": "text/x-python",
   "name": "python",
   "nbconvert_exporter": "python",
   "pygments_lexer": "ipython3",
   "version": "3.12.7"
  }
 },
 "nbformat": 4,
 "nbformat_minor": 2
}
