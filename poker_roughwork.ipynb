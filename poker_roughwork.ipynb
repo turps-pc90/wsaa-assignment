{
 "cells": [
  {
   "cell_type": "markdown",
   "metadata": {},
   "source": [
    "### LIbrary Imports"
   ]
  },
  {
   "cell_type": "code",
   "execution_count": 28,
   "metadata": {},
   "outputs": [],
   "source": [
    "import requests"
   ]
  },
  {
   "cell_type": "markdown",
   "metadata": {},
   "source": [
    "### API Call"
   ]
  },
  {
   "cell_type": "code",
   "execution_count": 9,
   "metadata": {},
   "outputs": [],
   "source": [
    "def poker_request():\n",
    "    deck_id = \"new\"\n",
    "    url = f\"https://deckofcardsapi.com/api/deck/{deck_id}/draw/?count=5\"\n",
    "    response = requests.get(url)\n",
    "    if response.status_code == 200:\n",
    "        cards = response.json()\n",
    "        print(cards)"
   ]
  },
  {
   "cell_type": "markdown",
   "metadata": {},
   "source": [
    "### Calling the poker_request() function to assess output"
   ]
  },
  {
   "cell_type": "code",
   "execution_count": 11,
   "metadata": {},
   "outputs": [
    {
     "name": "stdout",
     "output_type": "stream",
     "text": [
      "{'success': True, 'deck_id': '90jyb6kmp8lc', 'cards': [{'code': '9H', 'image': 'https://deckofcardsapi.com/static/img/9H.png', 'images': {'svg': 'https://deckofcardsapi.com/static/img/9H.svg', 'png': 'https://deckofcardsapi.com/static/img/9H.png'}, 'value': '9', 'suit': 'HEARTS'}, {'code': 'AH', 'image': 'https://deckofcardsapi.com/static/img/AH.png', 'images': {'svg': 'https://deckofcardsapi.com/static/img/AH.svg', 'png': 'https://deckofcardsapi.com/static/img/AH.png'}, 'value': 'ACE', 'suit': 'HEARTS'}, {'code': 'JS', 'image': 'https://deckofcardsapi.com/static/img/JS.png', 'images': {'svg': 'https://deckofcardsapi.com/static/img/JS.svg', 'png': 'https://deckofcardsapi.com/static/img/JS.png'}, 'value': 'JACK', 'suit': 'SPADES'}, {'code': '3C', 'image': 'https://deckofcardsapi.com/static/img/3C.png', 'images': {'svg': 'https://deckofcardsapi.com/static/img/3C.svg', 'png': 'https://deckofcardsapi.com/static/img/3C.png'}, 'value': '3', 'suit': 'CLUBS'}, {'code': 'AC', 'image': 'https://deckofcardsapi.com/static/img/AC.png', 'images': {'svg': 'https://deckofcardsapi.com/static/img/AC.svg', 'png': 'https://deckofcardsapi.com/static/img/AC.png'}, 'value': 'ACE', 'suit': 'CLUBS'}], 'remaining': 47}\n"
     ]
    }
   ],
   "source": [
    "poker_request()"
   ]
  },
  {
   "cell_type": "markdown",
   "metadata": {},
   "source": [
    "Based on the output above and [this Youtube video](https://www.youtube.com/watch?v=PZLCOgubhEE) I found on a similar project, I am going to try to compare hands and call a winner.\n",
    "<br>\n",
    "<br>\n",
    "I will assign a Jack a value of 11, a Queen a value of 12, a King a value of 13 and an Ace a value of 14. Poker is not my strong suit. Pun intended.  "
   ]
  },
  {
   "cell_type": "code",
   "execution_count": 12,
   "metadata": {},
   "outputs": [],
   "source": [
    "# Function to assign card values to numbers\n",
    "def card_rank(value):\n",
    "    if value.isdigit():\n",
    "        return int(value)\n",
    "    return {'ACE': 14, 'JACK': 11, 'QUEEN': 12, 'KING': 13}[value]\n"
   ]
  },
  {
   "cell_type": "markdown",
   "metadata": {},
   "source": [
    "### Poker Hands\n",
    "![Poker Hands](https://encrypted-tbn0.gstatic.com/images?q=tbn:ANd9GcTYG-1Z4fncgQqbL2WskKhBr5fkw69qOnIXww&s)\n"
   ]
  },
  {
   "cell_type": "markdown",
   "metadata": {},
   "source": [
    "### Note\n",
    "\n",
    "I have discovered what I think is a suitable [Github repo](https://github.com/jonathanza/poker_hands) that I can use for the poker hands evaluation which I will test below. "
   ]
  },
  {
   "cell_type": "code",
   "execution_count": 29,
   "metadata": {},
   "outputs": [],
   "source": [
    "from pokerhand import PokerHand"
   ]
  },
  {
   "cell_type": "markdown",
   "metadata": {},
   "source": [
    "I need to make the output fit the structure of the PokerHand application ([as per the README file](https://github.com/jonathanza/poker_hands?tab=readme-ov-file#usage)) so will use the upper() function as the app from Jonathanza uses uppercase letters and I will take the first character as they use first character also. "
   ]
  },
  {
   "cell_type": "code",
   "execution_count": 30,
   "metadata": {},
   "outputs": [],
   "source": [
    "def convert_card(card):\n",
    "    value = card['value']\n",
    "    suit = card['suit'][0].upper()  # Take the first letter of the suit and convert it to uppercase\n",
    "    if value == 'ACE':\n",
    "        value = 'A'\n",
    "    elif value == 'JACK':\n",
    "        value = 'J'\n",
    "    elif value == 'QUEEN':\n",
    "        value = 'Q'\n",
    "    elif value == 'KING':\n",
    "        value = 'K'\n",
    "    elif value == '10':\n",
    "        value = 'T'\n",
    "    return (value, suit)\n"
   ]
  },
  {
   "cell_type": "markdown",
   "metadata": {},
   "source": [
    "### Rewriting API Request\n",
    "#### To include the PokerHand app"
   ]
  },
  {
   "cell_type": "code",
   "execution_count": 23,
   "metadata": {},
   "outputs": [],
   "source": [
    "def poker_request():\n",
    "    deck_id = \"new\"\n",
    "    url = f\"https://deckofcardsapi.com/api/deck/{deck_id}/draw/?count=5\"\n",
    "    response = requests.get(url)\n",
    "    if response.status_code == 200:\n",
    "        cards = response.json()['cards']\n",
    "        converted_cards = [convert_card(card) for card in cards]\n",
    "        hand = PokerHand(converted_cards)\n",
    "        hand_name = hand.classify()\n",
    "        print(hand_name)\n",
    "        print(cards)"
   ]
  },
  {
   "cell_type": "code",
   "execution_count": 25,
   "metadata": {},
   "outputs": [
    {
     "name": "stdout",
     "output_type": "stream",
     "text": [
      "High Card\n",
      "[{'code': 'KH', 'image': 'https://deckofcardsapi.com/static/img/KH.png', 'images': {'svg': 'https://deckofcardsapi.com/static/img/KH.svg', 'png': 'https://deckofcardsapi.com/static/img/KH.png'}, 'value': 'KING', 'suit': 'HEARTS'}, {'code': 'QC', 'image': 'https://deckofcardsapi.com/static/img/QC.png', 'images': {'svg': 'https://deckofcardsapi.com/static/img/QC.svg', 'png': 'https://deckofcardsapi.com/static/img/QC.png'}, 'value': 'QUEEN', 'suit': 'CLUBS'}, {'code': '4C', 'image': 'https://deckofcardsapi.com/static/img/4C.png', 'images': {'svg': 'https://deckofcardsapi.com/static/img/4C.svg', 'png': 'https://deckofcardsapi.com/static/img/4C.png'}, 'value': '4', 'suit': 'CLUBS'}, {'code': '8C', 'image': 'https://deckofcardsapi.com/static/img/8C.png', 'images': {'svg': 'https://deckofcardsapi.com/static/img/8C.svg', 'png': 'https://deckofcardsapi.com/static/img/8C.png'}, 'value': '8', 'suit': 'CLUBS'}, {'code': 'AS', 'image': 'https://deckofcardsapi.com/static/img/AS.png', 'images': {'svg': 'https://deckofcardsapi.com/static/img/AS.svg', 'png': 'https://deckofcardsapi.com/static/img/AS.png'}, 'value': 'ACE', 'suit': 'SPADES'}]\n"
     ]
    }
   ],
   "source": [
    "poker_request()"
   ]
  },
  {
   "cell_type": "markdown",
   "metadata": {},
   "source": [
    "This is now outputting the hand generated so next job is to print off a second hand and compare them. I will use the poker_request function but increase the count to 10 and split them. "
   ]
  },
  {
   "cell_type": "markdown",
   "metadata": {},
   "source": [
    "### Drawing Two Hands"
   ]
  },
  {
   "cell_type": "code",
   "execution_count": 42,
   "metadata": {},
   "outputs": [],
   "source": [
    "def poker_request2():\n",
    "    deck_id = \"new\"\n",
    "    url = f\"https://deckofcardsapi.com/api/deck/{deck_id}/draw/?count=10\"\n",
    "    response = requests.get(url)\n",
    "    if response.status_code == 200:\n",
    "        cards = response.json()['cards']\n",
    "        \n",
    "        # Splitting list of cards using slicing\n",
    "        deal_one = cards[:5]\n",
    "        deal_two = cards[5:]\n",
    "        \n",
    "        # Converting into format for using with PokerHand app\n",
    "        converted_cards1 = [convert_card(card) for card in deal_one]\n",
    "        converted_cards2 = [convert_card(card) for card in deal_two]\n",
    "        \n",
    "        # Applying PokerHand function to the hands\n",
    "        hand1 = PokerHand(converted_cards1)\n",
    "        hand2 = PokerHand(converted_cards2)\n",
    "        \n",
    "        # Classifying both hands\n",
    "        hand1_name = hand1.classify()\n",
    "        hand2_name = hand2.classify() \n",
    "        \n",
    "        print(\"Hand 1:\", hand1_name, converted_cards1)\n",
    "        print(\" -  -  -  -  -  -  -  -  -  - \")\n",
    "        print(\"Hand 2:\", hand2_name, converted_cards2)"
   ]
  },
  {
   "cell_type": "code",
   "execution_count": 43,
   "metadata": {},
   "outputs": [
    {
     "name": "stdout",
     "output_type": "stream",
     "text": [
      "Hand 1: One Pair [('T', 'H'), ('2', 'D'), ('5', 'S'), ('4', 'H'), ('2', 'C')]\n",
      " -  -  -  -  -  -  -  -  -  - \n",
      "Hand 2: High Card [('K', 'D'), ('5', 'C'), ('A', 'D'), ('T', 'D'), ('8', 'C')]\n"
     ]
    }
   ],
   "source": [
    "poker_request2()"
   ]
  },
  {
   "cell_type": "markdown",
   "metadata": {},
   "source": [
    "I do not see any function within the PokerHands script that compares them so I will assign the ranking values in a dictionary based on the hands listed in the Readme file - \n",
    "<br>\n",
    "**Royal Flush**\n",
    "<br>\n",
    "**Straight Flush**\n",
    "<br>\n",
    "**Four of a Kind**\n",
    "<br>\n",
    "**Full House**\n",
    "<br>\n",
    "**Flush**\n",
    "<br>\n",
    "**Straight**\n",
    "<br>\n",
    "**Three of a Kind**\n",
    "<br>\n",
    "**Two Pair**\n",
    "<br>\n",
    "**One Pair**\n",
    "<br>\n",
    "**High Card**"
   ]
  },
  {
   "cell_type": "code",
   "execution_count": 44,
   "metadata": {},
   "outputs": [],
   "source": [
    "hand_ranking = {\n",
    "    \"Royal Flush\": 1,\n",
    "    \"Straight Flush\": 2,\n",
    "    \"Four of a Kind\": 3,\n",
    "    \"Full House\": 4,\n",
    "    \"Flush\": 5,\n",
    "    \"Straight\": 6,\n",
    "    \"Three of a Kind\": 7,\n",
    "    \"Two Pair\": 8,\n",
    "    \"One Pair\": 9,\n",
    "    \"High Card\": 10\n",
    "}"
   ]
  },
  {
   "cell_type": "markdown",
   "metadata": {},
   "source": [
    "Function to compare hands based on the dictionary above by taking both outputted hands from the API request as arguments for the comparison. "
   ]
  },
  {
   "cell_type": "code",
   "execution_count": 45,
   "metadata": {},
   "outputs": [],
   "source": [
    "def compare_hands(hand1, hand2):\n",
    "    rank1 = hand_ranking[hand1]\n",
    "    rank2 = hand_ranking[hand2]\n",
    "    if rank1 < rank2:\n",
    "        return \"Hand 1 wins\"\n",
    "    elif rank1 > rank2:\n",
    "        return \"Hand 2 wins\"\n",
    "    else:\n",
    "        return \"It's a tie\"\n"
   ]
  },
  {
   "cell_type": "markdown",
   "metadata": {},
   "source": [
    "I will add in the compare_hands() function to the poker_request2()"
   ]
  },
  {
   "cell_type": "code",
   "execution_count": 49,
   "metadata": {},
   "outputs": [],
   "source": [
    "def poker_request2():\n",
    "    deck_id = \"new\"\n",
    "    url = f\"https://deckofcardsapi.com/api/deck/{deck_id}/draw/?count=10\"\n",
    "    response = requests.get(url)\n",
    "    if response.status_code == 200:\n",
    "        cards = response.json()['cards']\n",
    "        \n",
    "        # Splitting list of cards using slicing\n",
    "        deal_one = cards[:5]\n",
    "        deal_two = cards[5:]\n",
    "        \n",
    "        # Converting into format for using with PokerHand app\n",
    "        converted_cards1 = [convert_card(card) for card in deal_one]\n",
    "        converted_cards2 = [convert_card(card) for card in deal_two]\n",
    "        \n",
    "        # Applying PokerHand function to the hands\n",
    "        hand1 = PokerHand(converted_cards1)\n",
    "        hand2 = PokerHand(converted_cards2)\n",
    "        \n",
    "        # Classifying both hands\n",
    "        hand1_name = hand1.classify()\n",
    "        hand2_name = hand2.classify() \n",
    "        \n",
    "        print(\"Hand 1:\", hand1_name, converted_cards1)\n",
    "        print(\" -  -  -  -  -  -  -  -  -  - \")\n",
    "        print(\"Hand 2:\", hand2_name, converted_cards2)\n",
    "        \n",
    "        result = compare_hands(hand1_name, hand2_name)\n",
    "        print(result)\n",
    "        "
   ]
  },
  {
   "cell_type": "code",
   "execution_count": 57,
   "metadata": {},
   "outputs": [
    {
     "name": "stdout",
     "output_type": "stream",
     "text": [
      "Hand 1: Flush [('4', 'H'), ('7', 'H'), ('5', 'H'), ('2', 'H'), ('8', 'H')]\n",
      " -  -  -  -  -  -  -  -  -  - \n",
      "Hand 2: High Card [('2', 'C'), ('3', 'S'), ('J', 'H'), ('4', 'C'), ('Q', 'S')]\n",
      "Hand 1 wins\n"
     ]
    }
   ],
   "source": [
    "poker_request2()"
   ]
  },
  {
   "cell_type": "markdown",
   "metadata": {},
   "source": [
    "poker_request2() is now working as intended so I will try to incorporate this into the Flask application."
   ]
  },
  {
   "cell_type": "markdown",
   "metadata": {},
   "source": []
  }
 ],
 "metadata": {
  "kernelspec": {
   "display_name": "base",
   "language": "python",
   "name": "python3"
  },
  "language_info": {
   "codemirror_mode": {
    "name": "ipython",
    "version": 3
   },
   "file_extension": ".py",
   "mimetype": "text/x-python",
   "name": "python",
   "nbconvert_exporter": "python",
   "pygments_lexer": "ipython3",
   "version": "3.12.7"
  }
 },
 "nbformat": 4,
 "nbformat_minor": 2
}
